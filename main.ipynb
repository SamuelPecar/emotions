{
 "cells": [
  {
   "cell_type": "code",
   "execution_count": null,
   "metadata": {
    "collapsed": true
   },
   "outputs": [],
   "source": [
    "import sys\n",
    "import utils\n",
    "import model_utils\n",
    "import preprocessing\n",
    "import evaluation\n",
    "import config"
   ]
  },
  {
   "cell_type": "code",
   "execution_count": null,
   "metadata": {},
   "outputs": [],
   "source": [
    "if sys.version_info[0] < 3:\n",
    "    raise Exception(\"Must be using Python 3\")"
   ]
  },
  {
   "cell_type": "code",
   "execution_count": null,
   "metadata": {},
   "outputs": [],
   "source": [
    "print('Preparing data')\n",
    "\n",
    "train_x, train_y, test_x, test_y = utils.load_dataset('data/train.csv', 'data/trial.csv', 'data/trial.labels', partition=config.partition)"
   ]
  },
  {
   "cell_type": "code",
   "execution_count": null,
   "metadata": {},
   "outputs": [],
   "source": [
    "print('Preprocessing data')\n",
    "train_x, test_x, max_string_length = preprocessing.preprocessing_pipeline(train_x, test_x, emoji2word=config.emoji2word)\n",
    "\n",
    "vocab_length, words_to_index, index_to_words = utils.create_vocabulary(train_x, test_x)\n",
    "\n",
    "train_y_oh = utils.labels_to_indices(train_y, config.labels_to_index, config.classes)\n",
    "test_y_oh = utils.labels_to_indices(test_y, config.labels_to_index, config.classes)\n",
    "\n",
    "train_x_indices = utils.sentences_to_indices(train_x, words_to_index, max_len=max_string_length)\n",
    "test_x_indices = utils.sentences_to_indices(test_x, words_to_index, max_len=max_string_length)"
   ]
  },
  {
   "cell_type": "code",
   "execution_count": null,
   "metadata": {},
   "outputs": [],
   "source": [
    "print('Creating embedding layer')\n",
    "\n",
    "word_embeddings = utils.load_embeddings(filepath=config.embeddings_path)\n",
    "embeddings_layer = model_utils.create_embedding_layer(word_embeddings, words_to_index, len(words_to_index), output_dim=config.dim)"
   ]
  },
  {
   "cell_type": "code",
   "execution_count": null,
   "metadata": {},
   "outputs": [],
   "source": [
    "print('Creating model')\n",
    "model = model_utils.get_model((max_string_length,), embeddings_layer, config.classes)\n",
    "# model = model_utils.get_model((max_string_length,), vocab_length, config.classes)\n",
    "\n",
    "model.summary()\n",
    "model.compile(loss='categorical_crossentropy', optimizer='adam', metrics=['accuracy', evaluation.f1, evaluation.precision, evaluation.recall])\n",
    "callbacks = model_utils.get_callbacks(early_stop_monitor=config.early_stop_monitor, early_stop_patience=config.early_stop_patience, early_stop_mode=config.early_stop_mode)\n",
    "# model_info = model.fit(train_x_indices, train_y_oh, epochs=config.epochs, batch_size=config.batch_size, validation_split=0.1, callbacks=callbacks, shuffle=True, verbose=config.verbose)\n",
    "model_info = model.fit(train_x_indices, train_y_oh, epochs=config.epochs, batch_size=config.batch_size, validation_data=(test_x_indices, test_y_oh), callbacks=callbacks, shuffle=True, verbose=config.verbose)\n",
    "utils.plot_model_history(model_info)\n"
   ]
  },
  {
   "cell_type": "code",
   "execution_count": null,
   "metadata": {},
   "outputs": [],
   "source": [
    "print('predict values model')\n",
    "\n",
    "loss, acc, f1, precision, recall = model.evaluate(test_x_indices, test_y_oh, verbose=config.verbose)\n",
    "print('Model evaluation')\n",
    "print(\"Loss = \", loss)\n",
    "print(\"Test accuracy = \", acc)\n",
    "print(\"F1 = \", f1)\n",
    "print(\"Precision = \", precision)\n",
    "print(\"Recall = \", recall)\n",
    "print('')\n",
    "\n",
    "probabilities = model.predict(test_x_indices)\n",
    "predictions = utils.indices_to_labels(probabilities.argmax(axis=-1), config.index_to_label)\n",
    "\n",
    "evaluation.calculate_prf(test_y.tolist(), predictions)\n"
   ]
  }
 ],
 "metadata": {
  "kernelspec": {
   "display_name": "Python 2",
   "language": "python",
   "name": "python2"
  },
  "language_info": {
   "codemirror_mode": {
    "name": "ipython",
    "version": 2.0
   },
   "file_extension": ".py",
   "mimetype": "text/x-python",
   "name": "python",
   "nbconvert_exporter": "python",
   "pygments_lexer": "ipython2",
   "version": "2.7.6"
  }
 },
 "nbformat": 4,
 "nbformat_minor": 0
}